{
 "cells": [
  {
   "cell_type": "markdown",
   "id": "0e81d606",
   "metadata": {},
   "source": [
    "# Casual Influence\n",
    "\n",
    "## why do we use casual influence?\n",
    "\n",
    "1. we want to find causation\n",
    "observation: event-prevent churn, find the causation: becuase of X, action: change X to prevent event\n",
    "\n",
    "\n",
    "2. A/B testing doesnt always work because of social media (meta) or resource shared (uber)\n",
    "\n",
    "\n",
    "## Problem with observational data\n",
    "1. Selection bias: select group a and group b\n",
    "e.g. because of other compounding factors, we can't say definitely these are the reasons\n",
    "\n",
    "\n",
    "## How to make casual inference from observation?\n",
    "### 1. regression\n",
    "\n",
    "model : lm(engement ~ exposure + age + country + .. data = harmful) \n",
    "we fit a model to capture the other compounders  and use partial regression plot :\n",
    "#### interpret partial slope: how much being exposed to X affects event A when control variables are held at any constant values\n",
    "\n",
    "regression potential mistakes(using it blindly can be dangerous):\n",
    "- omit variable bias - relevant variables were left out \n",
    "- functional form\n",
    "e.g. linear regression can only control to linear regressions , if other relationships can't control them cleanly \n",
    "- causal structure : DAG(Directed Acyclic Graph) , nodes - random variables. edges - causal relationships\n",
    "   Mediators (middle of a chain): if we control mediators, causal effect will be lost\n",
    "   COlliders (common effect):\n",
    "\n",
    "### 2. matching \n",
    "matching can deal with any types of functional forms\n",
    "- Exact Matching: curse of dimensionality, lack of common support \n",
    "exact matching , for each data point we have , we will have a pair \n",
    "\n",
    "- propensity score matching\n",
    "instead of direct matching, we build a model and predict the probabilty of event A or not. \n",
    "we just match group a and b based on the propensity score and compare the difference \n",
    "it solved the probelm from exact matching, \n",
    "however, we need a good model to accurately predict the outcome \n",
    "secondly we need a good algorithm to find similar users based on propensity score, 1-to-1. 1-to-many\n",
    "\n",
    "\n",
    "e.g. hello fresh predict if the AD will cause the user to subscribe \n",
    "step 1: generate the propensity score \n",
    "step 2: compare the users who clicked ot not. \n",
    "\n",
    "\n",
    "####  Counterfactual theory of causation \n",
    "if X had not occured , Y would not have occurred \n",
    "similar to a world, and counterfactual world  (e.g. multi-universe) and compare\n",
    "\n",
    "\n",
    "### 3. Difference-in-Differences (DD) +synthetic control\n",
    "\n",
    "sometimes we don't have many treated units to compare with untreated but we still want to treat the effect\n",
    "so do that we can create a counterfactual world \n",
    "Difference in Difference (old model)\n",
    "Synthetic Control (new model, to capture how the outcome change overtime in the real and synthetic world)\n",
    "\n",
    "\n",
    "-measure difference between group a and group b \n",
    "-treatment\n",
    "-measure difference between group a and group b\n",
    "\n",
    "assumption: w/o treatment, units share common trend \n",
    "\n",
    "- however the assumption may not always be met \n",
    "\n",
    "### 4.synthetic control\n",
    "a weighted average of donor pool, syntheric control is compared to the treated group \n",
    "\n",
    "\n",
    "\n",
    "\n"
   ]
  },
  {
   "cell_type": "code",
   "execution_count": 1,
   "id": "ab0b36f1",
   "metadata": {},
   "outputs": [
    {
     "data": {
      "text/plain": [
       "'C:\\\\Users\\\\PC\\\\Python Projects'"
      ]
     },
     "execution_count": 1,
     "metadata": {},
     "output_type": "execute_result"
    }
   ],
   "source": [
    "pwd\n"
   ]
  },
  {
   "cell_type": "markdown",
   "id": "ef767761",
   "metadata": {},
   "source": [
    "The package-causalinference implements various causal inference methods, \n",
    "such as propensity score matching and inverse probability weighting, to estimate the causal effect of a treatment or intervention on an outcome. These methods make use of observational data, and do not require randomized controlled trials.\n",
    "\n",
    "The methods in the causalinference package have been widely used and validated in the causal inference literature, \n",
    "and are considered to be state-of-the-art for causal inference analysis. \n",
    "However, it is important to understand the assumptions and limitations of the methods used, \n",
    "and to carefully validate the results using appropriate methods, such as sensitivity analysis or cross-validation.\n"
   ]
  },
  {
   "cell_type": "code",
   "execution_count": null,
   "id": "ea7289dc",
   "metadata": {},
   "outputs": [],
   "source": [
    "import numpy as np\n",
    "import pandas as pd\n",
    "from causalinference import CausalModel\n",
    "\n",
    "# Load the data\n",
    "df = pd.read_csv(\"data.csv\")\n",
    "\n",
    "# Define the treatment and outcome variables\n",
    "treatment_var = \"treatment\"\n",
    "outcome_var = \"outcome\"\n",
    "\n",
    "# Create the causal model\n",
    "cm = CausalModel(df, treatment_var, outcome_var)\n",
    "\n",
    "# Establish the treatment effect\n",
    "cm.est_propensity()\n",
    "cm.stratify()\n",
    "cm.est_via_blocking()\n",
    "\n",
    "\n",
    "# The treatment effect is established using a combination of methods：\n",
    "# propensity score estimation and stratification.\n",
    "\n",
    "# The average treatment effect (ATE) is then obtained from the cm.estimates dictionary using the key \"ate\".\n",
    "\n",
    "# Get the average treatment effect\n",
    "ate = cm.estimates[\"ate\"]\n",
    "\n",
    "# Print the average treatment effect\n",
    "print(\"Average Treatment Effect:\", ate)\n"
   ]
  }
 ],
 "metadata": {
  "kernelspec": {
   "display_name": "Python 3 (ipykernel)",
   "language": "python",
   "name": "python3"
  },
  "language_info": {
   "codemirror_mode": {
    "name": "ipython",
    "version": 3
   },
   "file_extension": ".py",
   "mimetype": "text/x-python",
   "name": "python",
   "nbconvert_exporter": "python",
   "pygments_lexer": "ipython3",
   "version": "3.9.7"
  }
 },
 "nbformat": 4,
 "nbformat_minor": 5
}
