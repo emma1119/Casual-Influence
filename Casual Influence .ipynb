{
 "cells": [
  {
   "cell_type": "markdown",
   "id": "1546a919",
   "metadata": {},
   "source": [
    "# Casual Influence\n",
    "\n",
    "## why do we use casual influence?\n",
    "\n",
    "1. we want to find causation\n",
    "observation: event-prevent churn, find the causation: becuase of X, action: change X to prevent event\n",
    "\n",
    "\n",
    "2. A/B testing doesnt always work because of social media (meta) or resource shared (uber)\n",
    "\n",
    "\n",
    "## Problem with observational data\n",
    "1. Selection bias: select group a and group b\n",
    "e.g. because of other compounding factors, we can't say definitely these are the reasons\n",
    "\n",
    "\n",
    "## How to make casual inference from observation?\n",
    "### 1. regression\n",
    "\n",
    "model : lm(engement ~ exposure + age + country + .. data = harmful) \n",
    "we fit a model to capture the other compounders  and use partial regression plot :\n",
    "#### interpret partial slope: how much being exposed to X affects event A when control variables are held at any constant values\n",
    "\n",
    "regression potential mistakes(using it blindly can be dangerous):\n",
    "- omit variable bias - relevant variables were left out \n",
    "- functional form\n",
    "e.g. linear regression can only control to linear regressions , if other relationships can't control them cleanly \n",
    "- causal structure : DAG(Directed Acyclic Graph) , nodes - random variables. edges - causal relationships\n",
    "   Mediators (middle of a chain): if we control mediators, causal effect will be lost\n",
    "   COlliders (common effect):\n",
    "\n",
    "### 2. matching \n",
    "matching can deal with any types of functional forms\n",
    "- Exact Matching: curse of dimensionality, lack of common support \n",
    "exact matching , for each data point we have , we will have a pair \n",
    "\n",
    "- propensity score matching\n",
    "instead of direct matching, we build a model and predict the probabilty of event A or not. \n",
    "we just match group a and b based on the propensity score and compare the difference \n",
    "it solved the probelm from exact matching, \n",
    "however, we need a good model to accurately predict the outcome \n",
    "secondly we need a good algorithm to find similar users based on propensity score, 1-to-1. 1-to-many\n",
    "\n",
    "\n",
    "\n",
    "e.g. hello fresh predict if the AD will cause the user to subscribe \n",
    "step 1: generate the propensity score \n",
    "step 2: compare the users who clicked ot not. \n",
    "\n",
    "### 3. Difference-in-Differences (DD)\n",
    "\n",
    "####  Counterfactual theory of causation \n",
    "if X had not occured , Y would not have occurred \n",
    "\n",
    "\n"
   ]
  },
  {
   "cell_type": "code",
   "execution_count": null,
   "id": "ecfc1afe",
   "metadata": {},
   "outputs": [],
   "source": []
  },
  {
   "cell_type": "code",
   "execution_count": null,
   "id": "39afe067",
   "metadata": {},
   "outputs": [],
   "source": []
  }
 ],
 "metadata": {
  "kernelspec": {
   "display_name": "Python 3 (ipykernel)",
   "language": "python",
   "name": "python3"
  },
  "language_info": {
   "codemirror_mode": {
    "name": "ipython",
    "version": 3
   },
   "file_extension": ".py",
   "mimetype": "text/x-python",
   "name": "python",
   "nbconvert_exporter": "python",
   "pygments_lexer": "ipython3",
   "version": "3.9.7"
  }
 },
 "nbformat": 4,
 "nbformat_minor": 5
}
